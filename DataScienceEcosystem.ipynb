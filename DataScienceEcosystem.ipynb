{
 "cells": [
  {
   "cell_type": "markdown",
   "id": "2c1fbc89",
   "metadata": {},
   "source": [
    "# Data Science Tools and Ecosystem"
   ]
  },
  {
   "cell_type": "markdown",
   "id": "e62362c9",
   "metadata": {},
   "source": [
    "This notebook introduces Data Science tools and the ecosystems used."
   ]
  },
  {
   "cell_type": "markdown",
   "id": "30cb5f48",
   "metadata": {},
   "source": [
    "## Author\n",
    "\n",
    "Shaun Geertshuis"
   ]
  },
  {
   "cell_type": "markdown",
   "id": "485f7989",
   "metadata": {},
   "source": [
    "__Objectives:__\n",
    "* Note some popular languages\n",
    "* List some commonly used libraries\n",
    "* Go over some arithmetic expression"
   ]
  },
  {
   "cell_type": "markdown",
   "id": "1b0f95c7",
   "metadata": {},
   "source": [
    "Some of the popular languages that data scientists use are:\n",
    "\n",
    "1. Python\n",
    "2. R\n",
    "3. SQL\n",
    "4. Scala\n",
    "5. Java\n",
    "6. C++\n",
    "7. Julia"
   ]
  },
  {
   "cell_type": "markdown",
   "id": "33432579",
   "metadata": {},
   "source": [
    "Some of the common libraries that data scientists use include:\n",
    "\n",
    "1. TensorFlow\n",
    "2. PyTorch\n",
    "3. Keras\n",
    "4. scikit-learn\n",
    "5. NLTK"
   ]
  },
  {
   "cell_type": "markdown",
   "id": "2373513b",
   "metadata": {},
   "source": [
    "|Data Science Tools|\n",
    "|----|\n",
    "|Apache Spark|\n",
    "|RStudio|\n",
    "|Jupyter Notebook|"
   ]
  },
  {
   "cell_type": "markdown",
   "id": "0cff7492",
   "metadata": {},
   "source": [
    "### Below are a few examples of evaluating arithmetic expressions in Python."
   ]
  },
  {
   "cell_type": "code",
   "execution_count": 4,
   "id": "36796fe0",
   "metadata": {},
   "outputs": [
    {
     "data": {
      "text/plain": [
       "17"
      ]
     },
     "execution_count": 4,
     "metadata": {},
     "output_type": "execute_result"
    }
   ],
   "source": [
    "#this is a simple arithmetic expression to multiply and then add integers.\n",
    "(3*4)+5"
   ]
  },
  {
   "cell_type": "code",
   "execution_count": 5,
   "id": "eb0e39ef",
   "metadata": {},
   "outputs": [
    {
     "data": {
      "text/plain": [
       "3.3333333333333335"
      ]
     },
     "execution_count": 5,
     "metadata": {},
     "output_type": "execute_result"
    }
   ],
   "source": [
    "#this will covvert 200 minutes to hours by dividing it by 60\n",
    "200 / 60"
   ]
  },
  {
   "cell_type": "markdown",
   "id": "b5111e9c",
   "metadata": {},
   "source": []
  },
  {
   "cell_type": "code",
   "execution_count": null,
   "id": "9ff2fd6e",
   "metadata": {},
   "outputs": [],
   "source": []
  }
 ],
 "metadata": {
  "kernelspec": {
   "display_name": "Python 3 (ipykernel)",
   "language": "python",
   "name": "python3"
  },
  "language_info": {
   "codemirror_mode": {
    "name": "ipython",
    "version": 3
   },
   "file_extension": ".py",
   "mimetype": "text/x-python",
   "name": "python",
   "nbconvert_exporter": "python",
   "pygments_lexer": "ipython3",
   "version": "3.11.5"
  }
 },
 "nbformat": 4,
 "nbformat_minor": 5
}
